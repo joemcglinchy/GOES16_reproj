{
 "cells": [
  {
   "cell_type": "code",
   "execution_count": 1,
   "metadata": {},
   "outputs": [],
   "source": [
    "from osgeo import osr\n",
    "from osgeo import gdal"
   ]
  },
  {
   "cell_type": "code",
   "execution_count": 2,
   "metadata": {},
   "outputs": [],
   "source": [
    "import os\n",
    "import matplotlib.pyplot as plt # Import the Matplotlib package\n",
    "from mpl_toolkits.basemap import Basemap # Import the Basemap toolkit\n",
    " \n",
    "import numpy as np # Import the Numpy package\n",
    " \n",
    "from remap import remap2 # Import the Remap function\n",
    " \n",
    "# from cpt_convert import loadCPT # Import the CPT convert function\n",
    "from matplotlib.colors import LinearSegmentedColormap # Linear interpolation for color maps\n",
    " \n",
    "import datetime # Library to convert julian day to dd-mm-yyyy\n",
    " \n",
    "from matplotlib.patches import Rectangle # Library to draw rectangles on the plot\n",
    " \n",
    "from netCDF4 import Dataset # Import the NetCDF Python interface\n",
    "\n",
    "import glob\n",
    "\n",
    "from mpl_toolkits.axes_grid1 import make_axes_locatable\n"
   ]
  },
  {
   "cell_type": "code",
   "execution_count": 3,
   "metadata": {},
   "outputs": [],
   "source": [
    "root_dir = '../../data/durango_416'\n",
    "b6_paths = sorted(glob.glob(root_dir + '/OR_ABI-L1b-RadC-M3C06_G16_*'))\n",
    "b6_paths = [os.path.abspath(p) for p in b6_paths]\n",
    "b7_paths = sorted(glob.glob(root_dir + '/OR_ABI-L1b-RadC-M3C07_G16_*'))\n",
    "b7_paths = [os.path.abspath(p) for p in b7_paths]\n",
    "\n",
    "\n",
    "# print(b6_paths)\n",
    "# print(len(b6_paths))\n",
    "# os.path.abspath(b6_paths[0])"
   ]
  },
  {
   "cell_type": "code",
   "execution_count": 6,
   "metadata": {},
   "outputs": [
    {
     "name": "stdout",
     "output_type": "stream",
     "text": [
      "netcdf\n"
     ]
    }
   ],
   "source": [
    "path = b7_paths[0]\n",
    "\n",
    "try:\n",
    "    print('netcdf')\n",
    "    connectionInfo = 'NETCDF:\\\"' + path + '\\\":Rad'   \n",
    "    # Open NetCDF file (GOES-16 data)  \n",
    "    raw = gdal.Open(connectionInfo)\n",
    "except:\n",
    "    print('hdf5')\n",
    "    connectionInfo = 'HDF5:\\\"' + path + '\\\"://Rad'   \n",
    "    # Open NetCDF file (GOES-16 data)  \n",
    "    raw = gdal.Open(connectionInfo)    \n",
    "\n",
    "array = raw.ReadAsArray()\n",
    "raw = None"
   ]
  },
  {
   "cell_type": "code",
   "execution_count": 5,
   "metadata": {},
   "outputs": [
    {
     "data": {
      "text/plain": [
       "'NETCDF:\"/home/jovyan/GOES/data/durango_416/OR_ABI-L1b-RadC-M3C07_G16_s20181521502285_e20181521505069_c20181521505109.nc\":CMI'"
      ]
     },
     "execution_count": 5,
     "metadata": {},
     "output_type": "execute_result"
    }
   ],
   "source": [
    "connectionInfo"
   ]
  },
  {
   "cell_type": "code",
   "execution_count": null,
   "metadata": {},
   "outputs": [],
   "source": []
  }
 ],
 "metadata": {
  "kernelspec": {
   "display_name": "Python 3",
   "language": "python",
   "name": "python3"
  },
  "language_info": {
   "codemirror_mode": {
    "name": "ipython",
    "version": 3
   },
   "file_extension": ".py",
   "mimetype": "text/x-python",
   "name": "python",
   "nbconvert_exporter": "python",
   "pygments_lexer": "ipython3",
   "version": "3.6.5"
  }
 },
 "nbformat": 4,
 "nbformat_minor": 2
}
