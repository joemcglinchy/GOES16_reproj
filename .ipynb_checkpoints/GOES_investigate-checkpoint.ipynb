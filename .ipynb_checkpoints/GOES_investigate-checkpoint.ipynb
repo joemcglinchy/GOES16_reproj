{
 "cells": [
  {
   "cell_type": "code",
   "execution_count": 1,
   "metadata": {
    "collapsed": true
   },
   "outputs": [],
   "source": [
    "import matplotlib.pyplot as plt # Import the Matplotlib package\n",
    "from mpl_toolkits.basemap import Basemap # Import the Basemap toolkit\n",
    " \n",
    "import numpy as np # Import the Numpy package\n",
    " \n",
    "from remap import remap2 # Import the Remap function\n",
    " \n",
    "# from cpt_convert import loadCPT # Import the CPT convert function\n",
    "from matplotlib.colors import LinearSegmentedColormap # Linear interpolation for color maps\n",
    " \n",
    "import datetime # Library to convert julian day to dd-mm-yyyy\n",
    " \n",
    "from matplotlib.patches import Rectangle # Library to draw rectangles on the plot\n",
    " \n",
    "from netCDF4 import Dataset # Import the NetCDF Python interface\n",
    "\n",
    "import glob\n"
   ]
  },
  {
   "cell_type": "code",
   "execution_count": 2,
   "metadata": {
    "collapsed": false
   },
   "outputs": [],
   "source": [
    "root_dir = r'C:\\Projects\\RD\\OPIR_GOES\\GOES\\ABI-L1b-RadC\\2017\\282\\05'\n",
    "root_dir = r'C:\\Projects\\RD\\OPIR_GOES\\GOES\\fromJeff'\n",
    "b6_paths = glob.glob(root_dir + r'\\OR_ABI-L1b-RadC-M3C06_G16_*')\n",
    "\n",
    "# store some variables\n",
    "time_ls = []\n",
    "data_ls = []\n",
    "grid_ls = []\n",
    "date_ls = []\n",
    "\n",
    "for path in b6_paths:\n",
    "     \n",
    "    # Getting information from the file name ==============================================================\n",
    "    # Search for the Scan start in the file name\n",
    "    Start = (path[path.find(\"_s\")+2:path.find(\"_e\")])\n",
    "    # Search for the GOES-16 channel in the file name\n",
    "    Band = int((path[path.find(\"M3C\" or \"M4C\")+3:path.find(\"_G16\")]))\n",
    "    # Create a GOES-16 Bands string array\n",
    "    Wavelenghts = ['[]','[0.47 μm]','[0.64 μm]','[0.865 μm]','[1.378 μm]','[1.61 μm]','[2.25 μm]','[3.90 μm]','[6.19 μm]','[6.95 μm]','[7.34 μm]','[8.50 μm]','[9.61 μm]','[10.35 μm]','[11.20 μm]','[12.30 μm]','[13.30 μm]']\n",
    "     \n",
    "    # Converting from julian day to dd-mm-yyyy\n",
    "    year = int(Start[0:4])\n",
    "    dayjulian = int(Start[4:7]) - 1 # Subtract 1 because the year starts at \"0\"\n",
    "    dayconventional = datetime.datetime(year,1,1) + datetime.timedelta(dayjulian) # Convert from julian to conventional\n",
    "    date = dayconventional.strftime('%d-%b-%Y') # Format the date according to the strftime directives\n",
    "    date_ls.append(date)\n",
    "    \n",
    "    time = Start [7:9] + \":\" + Start [9:11] + \":\" + Start [11:13] + \" UTC\" # Time of the Start of the Scan\n",
    "    time_ls.append(time)\n",
    "    \n",
    "    # Get the unit based on the channel. If channels 1 trough 6 is Albedo. If channels 7 to 16 is BT.\n",
    "    if Band <= 6:\n",
    "     Unit = \"Reflectance\"\n",
    "    else:\n",
    "     Unit = \"Brightness Temperature [°C]\"\n",
    "\n",
    "    # Open the file using the NetCDF4 library\n",
    "    nc = Dataset(path)\n",
    "     \n",
    "    # Get the latitude and longitude image bounds\n",
    "    geo_extent = nc.variables['geospatial_lat_lon_extent']\n",
    "    min_lon = float(geo_extent.geospatial_westbound_longitude)\n",
    "    max_lon = float(geo_extent.geospatial_eastbound_longitude)\n",
    "    min_lat = float(geo_extent.geospatial_southbound_latitude)\n",
    "    max_lat = float(geo_extent.geospatial_northbound_latitude)\n",
    "     \n",
    "    # Choose the visualization extent (min lon, min lat, max lon, max lat)\n",
    "    #extent = [-85.0, -5.0, -60.0, 12.0]\n",
    "    extent = [min_lon, min_lat, max_lon, max_lat]\n",
    "     \n",
    "    # Choose the image resolution (the higher the number the faster the processing is)\n",
    "    resolution = 2.0\n",
    "     \n",
    "    # Calculate the image extent required for the reprojection\n",
    "    H = nc.variables['goes_imager_projection'].perspective_point_height\n",
    "    x1 = nc.variables['x_image_bounds'][0] * H\n",
    "    x2 = nc.variables['x_image_bounds'][1] * H\n",
    "    y1 = nc.variables['y_image_bounds'][1] * H\n",
    "    y2 = nc.variables['y_image_bounds'][0] * H\n",
    "     \n",
    "    # Call the reprojection function\n",
    "    raw,grid = remap2(path, extent, resolution, x1, y1, x2, y2)\n",
    "    grid_ls.append(grid)\n",
    "     \n",
    "    # Read the data returned by the function\n",
    "    if Band <= 6:\n",
    "        data = grid.ReadAsArray()\n",
    "    else:\n",
    "        # If it is an IR channel subtract 273.15 to convert to ° Celsius\n",
    "        data = grid.ReadAsArray() - 273.15\n",
    "        \n",
    "    data_ls.append(data)"
   ]
  },
  {
   "cell_type": "code",
   "execution_count": null,
   "metadata": {
    "collapsed": false
   },
   "outputs": [],
   "source": [
    "# make the list into an array (time will be dim=0)\n",
    "data_arr = np.array(data_ls)    \n",
    "\n",
    "# make an array of zeros to match\n",
    "shp = data_ls[0].shape\n",
    "targets = np.zeros((shp[0]*shp[1],1))\n",
    "\n",
    "# reshape\n",
    "data_arr = np.rollaxis(data_arr, 0, 3)\n",
    "data_vec = np.reshape(data_arr, (shp[0]*shp[1], -1))\n",
    "\n",
    "# make into a pandas data frame\n",
    "import pandas as pd\n",
    "        \n",
    "dts = []\n",
    "for i,t in enumerate(time_ls):\n",
    "    s = 'UTC_' + t.replace(':','').replace(' ','').replace('UTC', '')\n",
    "    dt = (s, 'float32')    \n",
    "    dts.append(dt)\n",
    "    \n",
    "# restructure the numpy array for use in a pandas dataframe\n",
    "myRecord = np.core.records.array(list(tuple(data_vec.transpose())), dtype=dts)\n",
    "df = pd.DataFrame(myRecord)\n",
    "\n",
    "\n",
    "absmax = data_vec.max(axis=1).max()\n",
    "loc = np.where(data_vec.max(axis=1) == absmax)[0]\n",
    "\n",
    "targets[loc]=1\n",
    "plt.imshow(np.reshape(targets, (shp[0], shp[1])))\n",
    "plt.show()"
   ]
  },
  {
   "cell_type": "code",
   "execution_count": null,
   "metadata": {
    "collapsed": false
   },
   "outputs": [],
   "source": [
    "arr_vars = np.var(data_vec, axis=1)\n",
    "hist, bins, _ = plt.hist(arr_vars[arr_vars>0], bins=255)\n",
    "plt.show()\n"
   ]
  },
  {
   "cell_type": "code",
   "execution_count": null,
   "metadata": {
    "collapsed": false
   },
   "outputs": [],
   "source": [
    "bins[-1]"
   ]
  },
  {
   "cell_type": "code",
   "execution_count": null,
   "metadata": {
    "collapsed": false
   },
   "outputs": [],
   "source": [
    "vars_hi_im = np.reshape(arr_vars>bins[-254], (shp[0], shp[1]))\n",
    "vars_im = np.reshape(arr_vars, (shp[0], shp[1]))\n",
    "fig = plt.figure(figsize=(20,20))\n",
    "plt.imshow(vars_im, cmap='bone', vmin=0., vmax=80)\n",
    "plt.show()"
   ]
  },
  {
   "cell_type": "code",
   "execution_count": null,
   "metadata": {
    "collapsed": false
   },
   "outputs": [],
   "source": []
  },
  {
   "cell_type": "markdown",
   "metadata": {},
   "source": [
    "#### Write out one of the rasters"
   ]
  },
  {
   "cell_type": "code",
   "execution_count": null,
   "metadata": {
    "collapsed": false
   },
   "outputs": [],
   "source": [
    "from osgeo import gdal, osr\n",
    "driver = gdal.GetDriverByName('GTiff')\n",
    "rows,cols = data_ls[0].shape\n",
    "\n",
    "fname = dts[0][0] + \"_\" + date_ls[0].replace('-','') + '_GOES_L1B_RAD_fromJeff.tif'\n",
    "dst_ds = driver.Create(fname, cols, rows, 1, gdal.GDT_Float32)\n",
    "dst_ds.SetGeoTransform(grid_ls[0].GetGeoTransform())\n",
    "#srs = osr.SpatialReference()\n",
    "#srs.ImportFromWkt(projInfo)\n",
    "dst_ds.SetProjection(grid_ls[0].GetProjection()) \n",
    "\n",
    "# Write out_arr to band\n",
    "dst_ds.GetRasterBand(1).WriteArray(data_ls[0])\n",
    "\n",
    "# Flush to disk and close file\n",
    "dst_ds.FlushCache()\n",
    "dst_ds = None\n",
    "\n"
   ]
  },
  {
   "cell_type": "code",
   "execution_count": null,
   "metadata": {
    "collapsed": false
   },
   "outputs": [],
   "source": []
  },
  {
   "cell_type": "code",
   "execution_count": null,
   "metadata": {
    "collapsed": false
   },
   "outputs": [],
   "source": []
  },
  {
   "cell_type": "code",
   "execution_count": null,
   "metadata": {
    "collapsed": false
   },
   "outputs": [],
   "source": []
  },
  {
   "cell_type": "code",
   "execution_count": 21,
   "metadata": {
    "collapsed": false
   },
   "outputs": [
    {
     "data": {
      "text/plain": [
       "((1500, 2500), (2157, 5089))"
      ]
     },
     "execution_count": 21,
     "metadata": {},
     "output_type": "execute_result"
    }
   ],
   "source": [
    "grid2 = grid.ReadAsArray()\n",
    "raw.shape, grid.ReadAsArray().shape"
   ]
  },
  {
   "cell_type": "code",
   "execution_count": 27,
   "metadata": {
    "collapsed": false
   },
   "outputs": [
    {
     "name": "stdout",
     "output_type": "stream",
     "text": [
      "31.9973146667\n"
     ]
    },
    {
     "data": {
      "image/png": "[encoded data removed]",
      "text/plain": [
       "<Figure size 432x288 with 1 Axes>"
      ]
     },
     "metadata": {},
     "output_type": "display_data"
    }
   ],
   "source": [
    "print(raw.mean())\n",
    "plt.hist(grid2[grid2>1].ravel(), bins=50)\n",
    "plt.show()"
   ]
  },
  {
   "cell_type": "code",
   "execution_count": 22,
   "metadata": {
    "collapsed": false
   },
   "outputs": [
    {
     "data": {
      "text/plain": [
       "<matplotlib.colorbar.Colorbar at 0x2bc8e998a58>"
      ]
     },
     "execution_count": 22,
     "metadata": {},
     "output_type": "execute_result"
    },
    {
     "data": {
      "image/png": "[encoded data removed]",
      "text/plain": [
       "<Figure size 432x288 with 2 Axes>"
      ]
     },
     "metadata": {},
     "output_type": "display_data"
    }
   ],
   "source": [
    "plt.imshow(grid2, vmin=30, vmax=100)\n",
    "plt.colorbar()"
   ]
  },
  {
   "cell_type": "code",
   "execution_count": 23,
   "metadata": {
    "collapsed": false
   },
   "outputs": [
    {
     "data": {
      "text/plain": [
       "-32.350648676314037"
      ]
     },
     "execution_count": 23,
     "metadata": {},
     "output_type": "execute_result"
    }
   ],
   "source": [
    "grid2.mean() - raw.mean()"
   ]
  },
  {
   "cell_type": "code",
   "execution_count": null,
   "metadata": {
    "collapsed": true
   },
   "outputs": [],
   "source": []
  }
 ],
 "metadata": {
  "anaconda-cloud": {},
  "kernelspec": {
   "display_name": "netcdf",
   "language": "python",
   "name": "netcdf"
  },
  "language_info": {
   "codemirror_mode": {
    "name": "ipython",
    "version": 3
   },
   "file_extension": ".py",
   "mimetype": "text/x-python",
   "name": "python",
   "nbconvert_exporter": "python",
   "pygments_lexer": "ipython3",
   "version": "3.6.5"
  }
 },
 "nbformat": 4,
 "nbformat_minor": 0
}
